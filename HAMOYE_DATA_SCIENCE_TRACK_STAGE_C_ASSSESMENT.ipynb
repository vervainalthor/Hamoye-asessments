{
  "nbformat": 4,
  "nbformat_minor": 0,
  "metadata": {
    "kernelspec": {
      "display_name": "Python 3",
      "language": "python",
      "name": "python3"
    },
    "language_info": {
      "codemirror_mode": {
        "name": "ipython",
        "version": 3
      },
      "file_extension": ".py",
      "mimetype": "text/x-python",
      "name": "python",
      "nbconvert_exporter": "python",
      "pygments_lexer": "ipython3",
      "version": "3.7.6"
    },
    "colab": {
      "name": "HAMOYE DATA SCIENCE TRACK STAGE C ASSSESMENT.ipynb",
      "provenance": [],
      "collapsed_sections": [],
      "toc_visible": true,
      "include_colab_link": true
    }
  },
  "cells": [
    {
      "cell_type": "markdown",
      "metadata": {
        "id": "view-in-github",
        "colab_type": "text"
      },
      "source": [
        "<a href=\"https://colab.research.google.com/github/vervainalthor/Hamoye-asessments/blob/master/HAMOYE_DATA_SCIENCE_TRACK_STAGE_C_ASSSESMENT.ipynb\" target=\"_parent\"><img src=\"https://colab.research.google.com/assets/colab-badge.svg\" alt=\"Open In Colab\"/></a>"
      ]
    },
    {
      "cell_type": "markdown",
      "metadata": {
        "id": "xBG9_wRIKLtM",
        "colab_type": "text"
      },
      "source": [
        "# HAMOYE DATA SCIENCE TRACK STAGE C ASSSESMENT\n",
        "\n",
        "## Name: Adekalu Adedayo\n",
        "## student id: c"
      ]
    },
    {
      "cell_type": "markdown",
      "metadata": {
        "id": "LtAl0Im3KLtS",
        "colab_type": "text"
      },
      "source": [
        "# following  initial instructions\n"
      ]
    },
    {
      "cell_type": "code",
      "metadata": {
        "id": "VVp_aqlLKLtX",
        "colab_type": "code",
        "colab": {}
      },
      "source": [
        "import pandas as pd\n",
        "df = pd.read_csv('Data_for_UCI_named.csv')"
      ],
      "execution_count": 1,
      "outputs": []
    },
    {
      "cell_type": "markdown",
      "metadata": {
        "id": "NN0sScP5KLtr",
        "colab_type": "text"
      },
      "source": [
        "Dataset Description\n",
        "Stability of the Grid System\n",
        "Electrical grids require a balance between electricity supply and demand in order to be stable. Conventional systems achieve this balance through demanddriven electricity production. For future grids with a high share of inϐlexible (i.e., renewable) energy source, the concept of demand response is a promising\n",
        "solution. This implies changes in electricity consumption in relation to electricity price changes. In this work, we’ll build a binary classiϐication model to\n",
        "predict if a grid is stable or unstable using the UCI Electrical Grid Stability Simulated dataset.\n",
        "Dataset: https://archive.ics.uci.edu/ml/datasets/Electrical+Grid+Stability+Simulated+Data+\n",
        "It has 12 primary predictive features and two dependent variables.\n",
        "Predictive features:\n",
        "1. 'tau1' to 'tau4': the reaction time of each network participant, a real value within the range 0.5 to 10 ('tau1' corresponds to the supplier node, 'tau2'\n",
        "to 'tau4' to the consumer nodes);\n",
        "2. 'p1' to 'p4': nominal power produced (positive) or consumed (negative) by each network participant, a real value within the range -2.0 to -0.5 for\n",
        "consumers ('p2' to 'p4'). As the total power consumed equals the total power generated, p1 (supplier node) = - (p2 + p3 + p4);\n",
        "3. 'g1' to 'g4': price elasticity coefϐicient for each network participant, a real value within the range 0.05 to 1.00 ('g1' corresponds to the supplier node,\n",
        "'g2' to 'g4' to the consumer nodes; 'g' stands for 'gamma');\n",
        "\n",
        "\n",
        "Dependent variables:\n",
        "1. 'stab': the maximum real part of the characteristic differential equation root (if positive, the system is linearly unstable; if negative, linearly stable);\n",
        "2. 'stabf': a categorical (binary) label ('stable' or 'unstable').\n",
        "\n",
        "\n",
        "Because of the direct relationship between 'stab' and 'stabf' ('stabf' = 'stable' if 'stab' <= 0, 'unstable' otherwise), 'stab' should be dropped and 'stabf' will\n",
        "remain as the sole dependent variable (binary classiϐication).\n",
        "\n",
        "Split the data into an 80-20 train-test split with a random state of “1”. Use the standard scaler to transform the train set (x_train, y_train) and the test set\n",
        "(x_test).\n",
        "\n",
        "Use scikit learn to train a random forest and extra trees classiϐier. And use xgboost and lightgbm to train an extreme boosting model and a light\n",
        "gradient boosting model. Use random_state = 1 for training all models and evaluate on the test set.\n",
        "\n",
        "\n",
        "Also, to improve the Extra Trees Classiϐier, you will use the following parameters (number of estimators, minimum number of samples, minimum number of\n",
        "\n",
        "\n",
        "samples for leaf node and the number of features to consider when looking for the best split) for the hyperparameter grid needed to run a Randomized\n",
        "\n",
        "\n",
        "Cross Validation Search (RandomizedSearchCV).\n",
        "n_estimators = [50, 100, 300, 500, 1000]\n",
        "min_samples_split = [2, 3, 5, 7, 9]\n",
        "min_samples_leaf = [1, 2, 4, 6, 8]\n",
        "max_features = ['auto', 'sqrt', 'log2', None]\n",
        "hyperparameter_grid = {'n_estimators': n_estimators,\n",
        "\n",
        "'min_samples_leaf': min_samples_leaf,\n",
        "'min_samples_split': min_samples_split,\n",
        "'max_features': max_features}"
      ]
    },
    {
      "cell_type": "code",
      "metadata": {
        "id": "2CS6ab8QKLtv",
        "colab_type": "code",
        "colab": {
          "base_uri": "https://localhost:8080/",
          "height": 217
        },
        "outputId": "011a9a42-07ef-4505-9033-ae220cb0b07a"
      },
      "source": [
        "df.head()"
      ],
      "execution_count": 2,
      "outputs": [
        {
          "output_type": "execute_result",
          "data": {
            "text/html": [
              "<div>\n",
              "<style scoped>\n",
              "    .dataframe tbody tr th:only-of-type {\n",
              "        vertical-align: middle;\n",
              "    }\n",
              "\n",
              "    .dataframe tbody tr th {\n",
              "        vertical-align: top;\n",
              "    }\n",
              "\n",
              "    .dataframe thead th {\n",
              "        text-align: right;\n",
              "    }\n",
              "</style>\n",
              "<table border=\"1\" class=\"dataframe\">\n",
              "  <thead>\n",
              "    <tr style=\"text-align: right;\">\n",
              "      <th></th>\n",
              "      <th>tau1</th>\n",
              "      <th>tau2</th>\n",
              "      <th>tau3</th>\n",
              "      <th>tau4</th>\n",
              "      <th>p1</th>\n",
              "      <th>p2</th>\n",
              "      <th>p3</th>\n",
              "      <th>p4</th>\n",
              "      <th>g1</th>\n",
              "      <th>g2</th>\n",
              "      <th>g3</th>\n",
              "      <th>g4</th>\n",
              "      <th>stab</th>\n",
              "      <th>stabf</th>\n",
              "    </tr>\n",
              "  </thead>\n",
              "  <tbody>\n",
              "    <tr>\n",
              "      <th>0</th>\n",
              "      <td>2.959060</td>\n",
              "      <td>3.079885</td>\n",
              "      <td>8.381025</td>\n",
              "      <td>9.780754</td>\n",
              "      <td>3.763085</td>\n",
              "      <td>-0.782604</td>\n",
              "      <td>-1.257395</td>\n",
              "      <td>-1.723086</td>\n",
              "      <td>0.650456</td>\n",
              "      <td>0.859578</td>\n",
              "      <td>0.887445</td>\n",
              "      <td>0.958034</td>\n",
              "      <td>0.055347</td>\n",
              "      <td>unstable</td>\n",
              "    </tr>\n",
              "    <tr>\n",
              "      <th>1</th>\n",
              "      <td>9.304097</td>\n",
              "      <td>4.902524</td>\n",
              "      <td>3.047541</td>\n",
              "      <td>1.369357</td>\n",
              "      <td>5.067812</td>\n",
              "      <td>-1.940058</td>\n",
              "      <td>-1.872742</td>\n",
              "      <td>-1.255012</td>\n",
              "      <td>0.413441</td>\n",
              "      <td>0.862414</td>\n",
              "      <td>0.562139</td>\n",
              "      <td>0.781760</td>\n",
              "      <td>-0.005957</td>\n",
              "      <td>stable</td>\n",
              "    </tr>\n",
              "    <tr>\n",
              "      <th>2</th>\n",
              "      <td>8.971707</td>\n",
              "      <td>8.848428</td>\n",
              "      <td>3.046479</td>\n",
              "      <td>1.214518</td>\n",
              "      <td>3.405158</td>\n",
              "      <td>-1.207456</td>\n",
              "      <td>-1.277210</td>\n",
              "      <td>-0.920492</td>\n",
              "      <td>0.163041</td>\n",
              "      <td>0.766689</td>\n",
              "      <td>0.839444</td>\n",
              "      <td>0.109853</td>\n",
              "      <td>0.003471</td>\n",
              "      <td>unstable</td>\n",
              "    </tr>\n",
              "    <tr>\n",
              "      <th>3</th>\n",
              "      <td>0.716415</td>\n",
              "      <td>7.669600</td>\n",
              "      <td>4.486641</td>\n",
              "      <td>2.340563</td>\n",
              "      <td>3.963791</td>\n",
              "      <td>-1.027473</td>\n",
              "      <td>-1.938944</td>\n",
              "      <td>-0.997374</td>\n",
              "      <td>0.446209</td>\n",
              "      <td>0.976744</td>\n",
              "      <td>0.929381</td>\n",
              "      <td>0.362718</td>\n",
              "      <td>0.028871</td>\n",
              "      <td>unstable</td>\n",
              "    </tr>\n",
              "    <tr>\n",
              "      <th>4</th>\n",
              "      <td>3.134112</td>\n",
              "      <td>7.608772</td>\n",
              "      <td>4.943759</td>\n",
              "      <td>9.857573</td>\n",
              "      <td>3.525811</td>\n",
              "      <td>-1.125531</td>\n",
              "      <td>-1.845975</td>\n",
              "      <td>-0.554305</td>\n",
              "      <td>0.797110</td>\n",
              "      <td>0.455450</td>\n",
              "      <td>0.656947</td>\n",
              "      <td>0.820923</td>\n",
              "      <td>0.049860</td>\n",
              "      <td>unstable</td>\n",
              "    </tr>\n",
              "  </tbody>\n",
              "</table>\n",
              "</div>"
            ],
            "text/plain": [
              "       tau1      tau2      tau3  ...        g4      stab     stabf\n",
              "0  2.959060  3.079885  8.381025  ...  0.958034  0.055347  unstable\n",
              "1  9.304097  4.902524  3.047541  ...  0.781760 -0.005957    stable\n",
              "2  8.971707  8.848428  3.046479  ...  0.109853  0.003471  unstable\n",
              "3  0.716415  7.669600  4.486641  ...  0.362718  0.028871  unstable\n",
              "4  3.134112  7.608772  4.943759  ...  0.820923  0.049860  unstable\n",
              "\n",
              "[5 rows x 14 columns]"
            ]
          },
          "metadata": {
            "tags": []
          },
          "execution_count": 2
        }
      ]
    },
    {
      "cell_type": "code",
      "metadata": {
        "id": "j7BFwtlWKLuN",
        "colab_type": "code",
        "colab": {
          "base_uri": "https://localhost:8080/",
          "height": 70
        },
        "outputId": "68a916a0-e5b5-4a24-f66b-82cf17ac6797"
      },
      "source": [
        "#check distribution of target variable\n",
        "df['stabf'].value_counts()"
      ],
      "execution_count": 3,
      "outputs": [
        {
          "output_type": "execute_result",
          "data": {
            "text/plain": [
              "unstable    6380\n",
              "stable      3620\n",
              "Name: stabf, dtype: int64"
            ]
          },
          "metadata": {
            "tags": []
          },
          "execution_count": 3
        }
      ]
    },
    {
      "cell_type": "code",
      "metadata": {
        "id": "xqDkaCpGKLue",
        "colab_type": "code",
        "colab": {
          "base_uri": "https://localhost:8080/",
          "height": 283
        },
        "outputId": "eec0e613-3322-4975-e011-2d6a41f4057d"
      },
      "source": [
        "df.isna().sum()"
      ],
      "execution_count": 4,
      "outputs": [
        {
          "output_type": "execute_result",
          "data": {
            "text/plain": [
              "tau1     0\n",
              "tau2     0\n",
              "tau3     0\n",
              "tau4     0\n",
              "p1       0\n",
              "p2       0\n",
              "p3       0\n",
              "p4       0\n",
              "g1       0\n",
              "g2       0\n",
              "g3       0\n",
              "g4       0\n",
              "stab     0\n",
              "stabf    0\n",
              "dtype: int64"
            ]
          },
          "metadata": {
            "tags": []
          },
          "execution_count": 4
        }
      ]
    },
    {
      "cell_type": "markdown",
      "metadata": {
        "id": "IpzRAVO4KLut",
        "colab_type": "text"
      },
      "source": [
        "The dataset is already clean and the dataset does not seem too imbalanced and the performance of balancing was not stated in the instructions"
      ]
    },
    {
      "cell_type": "code",
      "metadata": {
        "id": "kh3fTh9sKLux",
        "colab_type": "code",
        "colab": {}
      },
      "source": [
        "#more preprocessing\n",
        "X = df.drop(columns=['stab','stabf'])\n",
        "y = df['stabf']"
      ],
      "execution_count": 5,
      "outputs": []
    },
    {
      "cell_type": "code",
      "metadata": {
        "id": "G9WF5tV1KLu_",
        "colab_type": "code",
        "colab": {
          "base_uri": "https://localhost:8080/",
          "height": 70
        },
        "outputId": "ccf993cd-1dd6-4ae0-bcf4-ba21be82c4d1"
      },
      "source": [
        "#split the data into training and testing sets\n",
        "from sklearn.model_selection import train_test_split\n",
        "x_train, x_test, y_train, y_test = train_test_split(X, y, test_size=0.2, random_state=1)\n",
        "y_train.value_counts()"
      ],
      "execution_count": 6,
      "outputs": [
        {
          "output_type": "execute_result",
          "data": {
            "text/plain": [
              "unstable    5092\n",
              "stable      2908\n",
              "Name: stabf, dtype: int64"
            ]
          },
          "metadata": {
            "tags": []
          },
          "execution_count": 6
        }
      ]
    },
    {
      "cell_type": "code",
      "metadata": {
        "id": "qNQK7KJ7KLvQ",
        "colab_type": "code",
        "colab": {}
      },
      "source": [
        "from sklearn.preprocessing import StandardScaler\n",
        "scaler = StandardScaler()\n",
        "normalised_train_df = scaler.fit_transform(x_train)\n",
        "normalised_train_df = pd.DataFrame(normalised_train_df,columns=x_train.columns)\n",
        "x_test = x_test.reset_index(drop=True)\n",
        "normalised_test_df = scaler.transform(x_test)\n",
        "normalised_test_df = pd.DataFrame(normalised_test_df,columns=x_test.columns)"
      ],
      "execution_count": 7,
      "outputs": []
    },
    {
      "cell_type": "markdown",
      "metadata": {
        "id": "GNS9HDvCKLve",
        "colab_type": "text"
      },
      "source": [
        "## Question 1\n",
        "You are working on a spam classiØcation system using regularized logistic regression. “Spam” is a positive class (y = 1) and\n",
        "“not spam” is the negative class (y = 0). You have trained your classiØer and there are n = 2000 examples in the test set.\n",
        "The confusion matrix of predicted class vs. actual class is:\n",
        "What is the F1 score of this classiØer?\n",
        "\n",
        "\\begin{array}{rrrl}\n",
        "F1 = 2 * &\\frac{\\displaystyle Precision * Recall }{\\displaystyle Precision + Recall} \n",
        "\\end{array}\n",
        "\n",
        "\n",
        "\\begin{array}{rrrl}\n",
        "Precision = & \\frac{\\displaystyle TP}{\\displaystyle TP+ FP} \n",
        "\\end{array}\n",
        "\n",
        "<br/>\n",
        "\n",
        "\n",
        "\\begin{array}{rrrl}\n",
        "Recall = & \\frac{\\displaystyle TP}{\\displaystyle TP + FN} \n",
        "\\end{array}"
      ]
    },
    {
      "cell_type": "code",
      "metadata": {
        "id": "Ul64tLT2KLvh",
        "colab_type": "code",
        "colab": {
          "base_uri": "https://localhost:8080/",
          "height": 34
        },
        "outputId": "ad6bd020-ff2a-47fd-f272-8249b0ecfd2d"
      },
      "source": [
        "tp1 = 355\n",
        "tn1 = 120\n",
        "fp1 = 1480\n",
        "fn1 = 45\n",
        "precision = tp1 / (tp1 + fp1)\n",
        "recall= tp1 / (tp1 + fn1)\n",
        "f1_score=  2*((precision* recall)/(precision+recall))\n",
        "\n",
        "round(f1_score,4)"
      ],
      "execution_count": 8,
      "outputs": [
        {
          "output_type": "execute_result",
          "data": {
            "text/plain": [
              "0.3177"
            ]
          },
          "metadata": {
            "tags": []
          },
          "execution_count": 8
        }
      ]
    },
    {
      "cell_type": "markdown",
      "metadata": {
        "id": "xGiHce8MKLvv",
        "colab_type": "text"
      },
      "source": [
        "### My Answer\n",
        "0.3177"
      ]
    },
    {
      "cell_type": "markdown",
      "metadata": {
        "id": "DWbfpIZlKLvy",
        "colab_type": "text"
      },
      "source": [
        "## Question 2\n",
        "A classiØer predicts if insurance claims are fraudulent or not. The cost of paying a fraudulent claim is higher than the cost\n",
        "of investigating a claim that is suspected to be fraudulent. Which metric should we use to evaluate this classiØer?\\\n",
        "\n",
        "### My Answer\n",
        "Recall"
      ]
    },
    {
      "cell_type": "markdown",
      "metadata": {
        "id": "_GCE_yjOKLv0",
        "colab_type": "text"
      },
      "source": [
        "## Quetsion 3\n",
        "A data scientist is evaluating different binary classiØcation models. A false positive result is 5 times more expensive (from\n",
        "a business perspective) than a false negative result. The models should be evaluated based on the following criteria:\n",
        "1) Must have a recall rate of at least 80%\n",
        "2) Must have a false positive rate of 10% or less\n",
        "3) Must minimize business costs\n",
        "After creating each binary classiØcation model, the data scientist generates the corresponding confusion matrix. Which\n",
        "confusion matrix represents the model that satisØes the requirements?"
      ]
    },
    {
      "cell_type": "code",
      "metadata": {
        "id": "-lUUWjH1KLv3",
        "colab_type": "code",
        "colab": {
          "base_uri": "https://localhost:8080/",
          "height": 34
        },
        "outputId": "a62e0bbd-2f8d-4fa3-90cd-d29616d910c6"
      },
      "source": [
        "tp1 = 82\n",
        "tn1 = 9\n",
        "fp1 = 2\n",
        "fn1 = 18\n",
        "precision = tp1 / (tp1 + fp1)\n",
        "recall= tp1 / (tp1 + fn1)\n",
        "f1_score=  2*((precision* recall)/(precision+recall))\n",
        "print('recall: %f' % recall)"
      ],
      "execution_count": 9,
      "outputs": [
        {
          "output_type": "stream",
          "text": [
            "recall: 0.820000\n"
          ],
          "name": "stdout"
        }
      ]
    },
    {
      "cell_type": "markdown",
      "metadata": {
        "id": "Tsy3zkNfKLwG",
        "colab_type": "text"
      },
      "source": [
        "### My Answer\n",
        "TN = 98%, FP = 2%, FN = 18%, TP = 82%\n",
        "\n",
        "it had the lowest percentage of false positive results whilst still maintaing a recall of above 80%\n"
      ]
    },
    {
      "cell_type": "markdown",
      "metadata": {
        "id": "GqQd6jDiKLwI",
        "colab_type": "text"
      },
      "source": [
        "## Question 4\n",
        "\n",
        "The ROC curve above was generated from a classiØcation algorithm. What can we say about this classiØer?\n",
        "### My Answer\n",
        "The model has no discrimination capacity to differentiate between the positive and the negative class\n",
        "\n",
        "(a straight line roc curve is a representaion of random guessing)"
      ]
    },
    {
      "cell_type": "markdown",
      "metadata": {
        "id": "-tq8V6ToKLwL",
        "colab_type": "text"
      },
      "source": [
        "## Question 5\n",
        "Which of this is not a good metric for evaluating classiØcation algorithms for data with imbalanced class problems?\n",
        "### My Answer\n",
        "Accuracy"
      ]
    },
    {
      "cell_type": "markdown",
      "metadata": {
        "id": "aQCheH3LKLwN",
        "colab_type": "text"
      },
      "source": [
        "## Question 6\n",
        "A random forest classiØer was used to classify handwritten digits 0-9 into the numbers they were intended to represent.\n",
        "The confusion matrix below was generated from the results. Based on the matrix, which number was predicted with the\n",
        "least accuracy?\n",
        "### My Answer\n",
        "8 (lowest amount of true positives)"
      ]
    },
    {
      "cell_type": "markdown",
      "metadata": {
        "id": "5Z8RvWQ9KLwT",
        "colab_type": "text"
      },
      "source": [
        "## Question 7\n",
        "What other hyperparameter optimization methods can you try apart from Random Search?\n",
        "### My Answer\n",
        "Grid Search"
      ]
    },
    {
      "cell_type": "markdown",
      "metadata": {
        "id": "OmViLz6jKLwW",
        "colab_type": "text"
      },
      "source": [
        "## Question 8\n",
        "Which method can we use to best Øt a data in Logistic Regression?\n",
        "### My Answer\n",
        "Maximum Likelihood"
      ]
    },
    {
      "cell_type": "markdown",
      "metadata": {
        "id": "d5FZ_cUyKLwY",
        "colab_type": "text"
      },
      "source": [
        "## Question 9\n",
        "What is the entropy of the target variable if its actual values are given as:\n",
        "[1,0,1,1,0,1,0]\n",
        "\n",
        "Shannon Entropy formula \n",
        "\\begin{array}{rrrl}\n",
        "H(X)= -\\sum\\limits_{i=1}^n p(x_i)log p(x_i)\n",
        "\\end{array}\n",
        "\n",
        "\n",
        "in this question\n",
        " \n",
        "$ p(x_1) = 3/7 ,  p(x_2) =4/7$\n",
        "\n",
        "### My Answer\n",
        " -3/7 log(3/7) - 4/7 log(4/7) "
      ]
    },
    {
      "cell_type": "markdown",
      "metadata": {
        "id": "32CYOM1mKLwb",
        "colab_type": "text"
      },
      "source": [
        "## Question 10\n",
        "Which of the following is not an Ensemble model?\n",
        "### My Answer\n",
        "Decision Tree"
      ]
    },
    {
      "cell_type": "markdown",
      "metadata": {
        "id": "64SL0HywKLwe",
        "colab_type": "text"
      },
      "source": [
        "## Question 11\n",
        "A medical company is building a model to predict the occurrence of thyroid cancer. The training data contains 900\n",
        "negative instances (people who don't have cancer) and 100 positive instances. The resulting model has 90% accuracy, but\n",
        "extremely poor recall. What steps can be used to improve the model's performance? (SELECT TWO OPTIONS)\n",
        "### My Answer\n",
        "Generate synthetic samples/data using SMOTE\n",
        "\n",
        "Collect more data for the positive case"
      ]
    },
    {
      "cell_type": "markdown",
      "metadata": {
        "id": "v01IIlJkKLwh",
        "colab_type": "text"
      },
      "source": [
        "## Question 12\n",
        "You are building a classiØer and the accuracy is poor on both the training and test sets. Which would you use to try to\n",
        "improve the performance?\n",
        "### My Answer\n",
        "Boosting"
      ]
    },
    {
      "cell_type": "markdown",
      "metadata": {
        "id": "jUH4bQOMKLwk",
        "colab_type": "text"
      },
      "source": [
        "## Question 13\n",
        "Why do we use weak learners in boosting?\n",
        "### My Answer\n",
        "To make the algorithm stronger(this was wrong)"
      ]
    },
    {
      "cell_type": "markdown",
      "metadata": {
        "id": "kBeYNY_CKLwm",
        "colab_type": "text"
      },
      "source": [
        "## Question 14\n",
        "You are developing a machine learning classiØcation algorithm that categorizes handwritten digits 0-9 into the numbers\n",
        "they represent. How should you pre-process the label data?\n",
        "### My Answer\n",
        "One-hot encoding"
      ]
    },
    {
      "cell_type": "markdown",
      "metadata": {
        "id": "VGdRjpTgKLwp",
        "colab_type": "text"
      },
      "source": [
        "## Question 15\n",
        "What is the accuracy on the test set using the random forest classiØer? In 4 decimal places."
      ]
    },
    {
      "cell_type": "code",
      "metadata": {
        "id": "2Af7BBa3KLwr",
        "colab_type": "code",
        "colab": {
          "base_uri": "https://localhost:8080/",
          "height": 296
        },
        "outputId": "d6c07643-f251-43f7-f6a9-0e4189b21d30"
      },
      "source": [
        "from sklearn.metrics import recall_score, accuracy_score, precision_score, f1_score,confusion_matrix\n",
        "from sklearn.metrics import plot_confusion_matrix\n",
        "from sklearn.ensemble import RandomForestClassifier\n",
        "model = RandomForestClassifier(random_state=1)\n",
        "# fit the model on the whole dataset\n",
        "model.fit(normalised_train_df,y_train)\n",
        "plot_confusion_matrix(model, \n",
        "                      normalised_test_df, \n",
        "                      y_test, \n",
        "                      display_labels=[\"stable\", \"unstable\"])"
      ],
      "execution_count": 10,
      "outputs": [
        {
          "output_type": "execute_result",
          "data": {
            "text/plain": [
              "<sklearn.metrics._plot.confusion_matrix.ConfusionMatrixDisplay at 0x7f8b14e11a20>"
            ]
          },
          "metadata": {
            "tags": []
          },
          "execution_count": 10
        },
        {
          "output_type": "display_data",
          "data": {
            "image/png": "[encoded data removed]",
            "text/plain": [
              "<Figure size 432x288 with 2 Axes>"
            ]
          },
          "metadata": {
            "tags": [],
            "needs_background": "light"
          }
        }
      ]
    },
    {
      "cell_type": "code",
      "metadata": {
        "id": "ZvOwPQF4KLw5",
        "colab_type": "code",
        "colab": {
          "base_uri": "https://localhost:8080/",
          "height": 34
        },
        "outputId": "5c716f76-8f21-4769-9f87-b5448e60930f"
      },
      "source": [
        "new_predictions = model.predict(normalised_test_df)\n",
        "accuracy = accuracy_score(y_true=y_test, y_pred=new_predictions)\n",
        "accuracy"
      ],
      "execution_count": 11,
      "outputs": [
        {
          "output_type": "execute_result",
          "data": {
            "text/plain": [
              "0.929"
            ]
          },
          "metadata": {
            "tags": []
          },
          "execution_count": 11
        }
      ]
    },
    {
      "cell_type": "markdown",
      "metadata": {
        "id": "4BE_xHVOKLxI",
        "colab_type": "text"
      },
      "source": [
        "### My Answer\n",
        "0.9295"
      ]
    },
    {
      "cell_type": "markdown",
      "metadata": {
        "id": "haI-zh9pKLxL",
        "colab_type": "text"
      },
      "source": [
        "## Question 16\n",
        "What is the accuracy on the test set using the LGBM classiØer? In 4 decimal places."
      ]
    },
    {
      "cell_type": "code",
      "metadata": {
        "id": "CGNlD13IKLxN",
        "colab_type": "code",
        "colab": {
          "base_uri": "https://localhost:8080/",
          "height": 296
        },
        "outputId": "f980a4e5-ff96-4d0d-bacd-22bd2aeae3f9"
      },
      "source": [
        "from lightgbm import LGBMClassifier\n",
        "model4 = LGBMClassifier(random_state=1)\n",
        "# fit the model on the whole dataset\n",
        "model4.fit(normalised_train_df, y_train)\n",
        "plot_confusion_matrix(model4, \n",
        "                      normalised_test_df, \n",
        "                      y_test, \n",
        "                      display_labels=[\"stable\", \"unstable\"])"
      ],
      "execution_count": 12,
      "outputs": [
        {
          "output_type": "execute_result",
          "data": {
            "text/plain": [
              "<sklearn.metrics._plot.confusion_matrix.ConfusionMatrixDisplay at 0x7f8b14d324a8>"
            ]
          },
          "metadata": {
            "tags": []
          },
          "execution_count": 12
        },
        {
          "output_type": "display_data",
          "data": {
            "image/png": "[encoded data removed]",
            "text/plain": [
              "<Figure size 432x288 with 2 Axes>"
            ]
          },
          "metadata": {
            "tags": [],
            "needs_background": "light"
          }
        }
      ]
    },
    {
      "cell_type": "code",
      "metadata": {
        "id": "lhxZNxxCKLxa",
        "colab_type": "code",
        "colab": {
          "base_uri": "https://localhost:8080/",
          "height": 34
        },
        "outputId": "413c2756-4a38-4fa2-ae55-077aa1f22c98"
      },
      "source": [
        "new_predictions4 = model4.predict(normalised_test_df)\n",
        "accuracy = accuracy_score(y_true=y_test, y_pred=new_predictions4)\n",
        "accuracy"
      ],
      "execution_count": 13,
      "outputs": [
        {
          "output_type": "execute_result",
          "data": {
            "text/plain": [
              "0.9375"
            ]
          },
          "metadata": {
            "tags": []
          },
          "execution_count": 13
        }
      ]
    },
    {
      "cell_type": "markdown",
      "metadata": {
        "id": "Rk7TLM9RKLxr",
        "colab_type": "text"
      },
      "source": [
        "### My Answer\n",
        "0.9375"
      ]
    },
    {
      "cell_type": "markdown",
      "metadata": {
        "id": "x7px_sziKLxt",
        "colab_type": "text"
      },
      "source": [
        "## Question 17\n",
        "What is the accuracy on the test set using the xgboost classiØer? In 4 decimal places."
      ]
    },
    {
      "cell_type": "code",
      "metadata": {
        "id": "MK0h__LOKLxv",
        "colab_type": "code",
        "colab": {
          "base_uri": "https://localhost:8080/",
          "height": 52
        },
        "outputId": "5b17c2b5-284d-48ff-cee5-30a2ad764877"
      },
      "source": [
        "from xgboost import XGBClassifier\n",
        "model3 = XGBClassifier(random_state=1)\n",
        "model3.fit(normalised_train_df, y_train)\n",
        "new_predictions3 = model3.predict(normalised_test_df)\n",
        "cnf_mat3 = confusion_matrix(y_true=y_test, y_pred=new_predictions3,labels=['stable','unstable'])\n",
        "cnf_mat3"
      ],
      "execution_count": 14,
      "outputs": [
        {
          "output_type": "execute_result",
          "data": {
            "text/plain": [
              "array([[ 603,  109],\n",
              "       [  52, 1236]])"
            ]
          },
          "metadata": {
            "tags": []
          },
          "execution_count": 14
        }
      ]
    },
    {
      "cell_type": "code",
      "metadata": {
        "id": "ferxaJ80KLx7",
        "colab_type": "code",
        "colab": {
          "base_uri": "https://localhost:8080/",
          "height": 34
        },
        "outputId": "2bc76efc-a841-4142-8d70-363d931e9941"
      },
      "source": [
        "accuracy = accuracy_score(y_true=y_test, y_pred=new_predictions3)\n",
        "accuracy"
      ],
      "execution_count": 15,
      "outputs": [
        {
          "output_type": "execute_result",
          "data": {
            "text/plain": [
              "0.9195"
            ]
          },
          "metadata": {
            "tags": []
          },
          "execution_count": 15
        }
      ]
    },
    {
      "cell_type": "markdown",
      "metadata": {
        "id": "WNsXHBdaKLyP",
        "colab_type": "text"
      },
      "source": [
        "### My Answer\n",
        "0.9195"
      ]
    },
    {
      "cell_type": "markdown",
      "metadata": {
        "id": "U-tiddPnKLyS",
        "colab_type": "text"
      },
      "source": [
        "## Question 18\n",
        "\n",
        "To improve the Extra Trees ClassiØer, you will use the following parameters (number of estimators, minimum number of\n",
        "samples, minimum number of samples for leaf node and the number of features to consider when looking for the best\n",
        "split) for the hyperparameter grid needed to run a Randomized Cross Validation Search (RandomizedSearchCV).\n",
        "<br>\n",
        "```\n",
        "n_estimators = [50, 100, 300, 500, 1000]\n",
        "min_samples_split = [2, 3, 5, 7, 9]\n",
        "min_samples_leaf = [1, 2, 4, 6, 8]\n",
        "max_features = ['auto', 'sqrt', 'log2', None]\n",
        "hyperparameter_grid = {'n_estimators': n_estimators,\n",
        "'min_samples_leaf': min_samples_leaf,\n",
        "'min_samples_split': min_samples_split,\n",
        "'max_features': max_features}\n",
        "```\n",
        "\n",
        "<br>\n",
        "Using the ExtraTreesClassiØer as your estimator with cv=5, n_iter=10, scoring = 'accuracy', n_jobs = -1, verbose = 1 and\n",
        "random_state = 1. What are the best hyperparameters from the randomized search CV?"
      ]
    },
    {
      "cell_type": "code",
      "metadata": {
        "id": "InSdgippKLyU",
        "colab_type": "code",
        "colab": {}
      },
      "source": [
        "#first extra tree\n",
        "from sklearn.ensemble import ExtraTreesClassifier\n",
        "clf = ExtraTreesClassifier(random_state=1)\n",
        "clf.fit(normalised_train_df,y_train)\n",
        "new_predictions2 = clf.predict(normalised_test_df)\n",
        "cnf_mat2 = confusion_matrix(y_true=y_test, y_pred=new_predictions2,labels=['stable','unstable'])"
      ],
      "execution_count": 16,
      "outputs": []
    },
    {
      "cell_type": "code",
      "metadata": {
        "id": "NZNDLFjyKLyf",
        "colab_type": "code",
        "colab": {
          "base_uri": "https://localhost:8080/",
          "height": 52
        },
        "outputId": "71edacf9-bf69-4e23-e1ac-913e4290df87"
      },
      "source": [
        "cnf_mat2"
      ],
      "execution_count": 17,
      "outputs": [
        {
          "output_type": "execute_result",
          "data": {
            "text/plain": [
              "array([[ 606,  106],\n",
              "       [  38, 1250]])"
            ]
          },
          "metadata": {
            "tags": []
          },
          "execution_count": 17
        }
      ]
    },
    {
      "cell_type": "code",
      "metadata": {
        "id": "LYh14vylKLyr",
        "colab_type": "code",
        "colab": {
          "base_uri": "https://localhost:8080/",
          "height": 34
        },
        "outputId": "05226058-4ba3-4d77-903e-7df2c3100e1d"
      },
      "source": [
        "accuracy = accuracy_score(y_true=y_test, y_pred=new_predictions2)\n",
        "accuracy"
      ],
      "execution_count": 18,
      "outputs": [
        {
          "output_type": "execute_result",
          "data": {
            "text/plain": [
              "0.928"
            ]
          },
          "metadata": {
            "tags": []
          },
          "execution_count": 18
        }
      ]
    },
    {
      "cell_type": "code",
      "metadata": {
        "id": "9gCJ_MBEKLy3",
        "colab_type": "code",
        "colab": {
          "base_uri": "https://localhost:8080/",
          "height": 52
        },
        "outputId": "80a4d645-c5cd-4d28-e848-e394b4b2a2d5"
      },
      "source": [
        "from sklearn.model_selection import RandomizedSearchCV\n",
        "n_estimators = [50, 100, 300, 500, 1000]\n",
        "min_samples_split = [2, 3, 5, 7, 9]\n",
        "min_samples_leaf = [1, 2, 4, 6, 8]\n",
        "max_features = ['auto', 'sqrt', 'log2', None]\n",
        "hyperparameter_grid = {'n_estimators': n_estimators,'min_samples_leaf': min_samples_leaf,'min_samples_split': min_samples_split,\n",
        "                       'max_features': max_features}\n",
        "utility = RandomizedSearchCV(estimator=ExtraTreesClassifier(random_state=1),\n",
        "                            param_distributions=hyperparameter_grid,random_state=1)\n",
        "result = utility.fit(normalised_train_df, y_train)\n",
        "\n",
        "print('Best Score: ', result.best_score_)\n",
        "print('Best Params: ', result.best_params_)"
      ],
      "execution_count": 19,
      "outputs": [
        {
          "output_type": "stream",
          "text": [
            "Best Score:  0.9241249999999999\n",
            "Best Params:  {'n_estimators': 1000, 'min_samples_split': 2, 'min_samples_leaf': 8, 'max_features': None}\n"
          ],
          "name": "stdout"
        }
      ]
    },
    {
      "cell_type": "markdown",
      "metadata": {
        "id": "UoS8FJ42KLzG",
        "colab_type": "text"
      },
      "source": [
        "### My Answer\n",
        "N_estimators = 1000 , min_samples_split = 2 , min_samples_leaf = 8, max_features = None"
      ]
    },
    {
      "cell_type": "code",
      "metadata": {
        "id": "kYl5JEFTKLzJ",
        "colab_type": "code",
        "colab": {
          "base_uri": "https://localhost:8080/",
          "height": 52
        },
        "outputId": "6ac5adfb-630d-4a8f-81c1-5abe168d8a7a"
      },
      "source": [
        "#improved Extratree classifier\n",
        "clfe = ExtraTreesClassifier(random_state=1,n_estimators=1000,min_samples_split=2, min_samples_leaf= 8,max_features= None)\n",
        "clfe.fit(normalised_train_df,y_train)\n",
        "new_predictionse = clfe.predict(normalised_test_df)\n",
        "cnf_mate = confusion_matrix(y_true=y_test, y_pred=new_predictionse,labels=['stable','unstable'])\n",
        "cnf_mate"
      ],
      "execution_count": 20,
      "outputs": [
        {
          "output_type": "execute_result",
          "data": {
            "text/plain": [
              "array([[ 619,   93],\n",
              "       [  53, 1235]])"
            ]
          },
          "metadata": {
            "tags": []
          },
          "execution_count": 20
        }
      ]
    },
    {
      "cell_type": "code",
      "metadata": {
        "id": "wi4UsGJ4KLzZ",
        "colab_type": "code",
        "colab": {
          "base_uri": "https://localhost:8080/",
          "height": 34
        },
        "outputId": "5b54285d-24d3-416e-ee5c-5b3068d105c0"
      },
      "source": [
        "accuracy = accuracy_score(y_true=y_test, y_pred=new_predictionse)\n",
        "accuracy"
      ],
      "execution_count": 21,
      "outputs": [
        {
          "output_type": "execute_result",
          "data": {
            "text/plain": [
              "0.927"
            ]
          },
          "metadata": {
            "tags": []
          },
          "execution_count": 21
        }
      ]
    },
    {
      "cell_type": "markdown",
      "metadata": {
        "id": "R6VZpsLyKLzm",
        "colab_type": "text"
      },
      "source": [
        "## Question 19\n",
        "Train a new ExtraTreesClassiØer Model with the new Hyperparameters from the RandomizedSearchCV (with\n",
        "random_state = 1). Is the accuracy of the new optimal model higher or lower than the initial ExtraTreesClassiØer model\n",
        "with no hyperparameter tuning?\n",
        "\n",
        "### My Answer\n",
        "Lower"
      ]
    },
    {
      "cell_type": "markdown",
      "metadata": {
        "id": "6cj06n3oKLzp",
        "colab_type": "text"
      },
      "source": [
        "## Question 20\n",
        "Find the feature importance using the optimal ExtraTreesClassiØer model. Which features are the most and least\n",
        "important respectively?"
      ]
    },
    {
      "cell_type": "code",
      "metadata": {
        "id": "scxk8D53KLzr",
        "colab_type": "code",
        "colab": {
          "base_uri": "https://localhost:8080/",
          "height": 230
        },
        "outputId": "bd443adf-6dc5-4739-ea4b-d04a4eeadeca"
      },
      "source": [
        "importance = clfe.feature_importances_\n",
        "for i,v in enumerate(importance):\n",
        "    print('Feature: %0d, Score: %.5f' % (i,v))"
      ],
      "execution_count": 22,
      "outputs": [
        {
          "output_type": "stream",
          "text": [
            "Feature: 0, Score: 0.13724\n",
            "Feature: 1, Score: 0.14051\n",
            "Feature: 2, Score: 0.13468\n",
            "Feature: 3, Score: 0.13542\n",
            "Feature: 4, Score: 0.00368\n",
            "Feature: 5, Score: 0.00534\n",
            "Feature: 6, Score: 0.00543\n",
            "Feature: 7, Score: 0.00496\n",
            "Feature: 8, Score: 0.10256\n",
            "Feature: 9, Score: 0.10758\n",
            "Feature: 10, Score: 0.11306\n",
            "Feature: 11, Score: 0.10954\n"
          ],
          "name": "stdout"
        }
      ]
    },
    {
      "cell_type": "markdown",
      "metadata": {
        "id": "t8PM46z7KLz3",
        "colab_type": "text"
      },
      "source": [
        "the second feature **tau2** has the highest importance of 0.14051 and the fifth feature **p1** as the lowest importance 0f 0.00368"
      ]
    },
    {
      "cell_type": "markdown",
      "metadata": {
        "id": "g4_qgQtAKLz5",
        "colab_type": "text"
      },
      "source": [
        "### My Answer\n",
        "tau2, p1"
      ]
    }
  ]
}